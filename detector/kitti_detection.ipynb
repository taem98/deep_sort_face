{
 "cells": [
  {
   "cell_type": "markdown",
   "metadata": {},
   "source": [
    "This notebook will generate the detection file for deep sort to evaluate the tracker and feature extraction performance.\n",
    "So we can have the idea where can go wrong in the tracker"
   ]
  },
  {
   "cell_type": "code",
   "execution_count": 12,
   "metadata": {},
   "outputs": [],
   "source": [
    "import os\n",
    "import pandas as pd\n",
    "import glob\n",
    "import numpy as np"
   ]
  },
  {
   "cell_type": "code",
   "execution_count": 2,
   "metadata": {},
   "outputs": [],
   "source": [
    "KITTI_LABEL = [\"frame\", \"track_id\", \"class_name\", \"truncated\",\n",
    "                 \"occluded\", \"alpha\", \"bbox_l\", \"bbox_t\",\n",
    "                 \"bbox_r\", \"bbox_b\", \"hdim\", \"wdim\",\n",
    "                 \"ldim\", \"locx\", \"locy\", \"locz\", \"rot_y\"]"
   ]
  },
  {
   "cell_type": "code",
   "execution_count": 3,
   "metadata": {},
   "outputs": [],
   "source": [
    "CLASS_NAME = ['Car', 'Cyclist', 'Misc', 'Pedestrian', 'Person', 'Tram', 'Truck','Van']"
   ]
  },
  {
   "cell_type": "code",
   "execution_count": 14,
   "metadata": {},
   "outputs": [],
   "source": [
    "with open(\"data/kitti.names\", 'w') as f:\n",
    "    for i in CLASS_NAME:\n",
    "        f.writelines(i + os.linesep)"
   ]
  },
  {
   "cell_type": "code",
   "execution_count": 5,
   "metadata": {},
   "outputs": [],
   "source": [
    "CLASS_DICT = {k:v for v, k in enumerate(CLASS_NAME)}"
   ]
  },
  {
   "cell_type": "code",
   "execution_count": 6,
   "metadata": {},
   "outputs": [
    {
     "data": {
      "text/plain": [
       "{'Car': 0,\n",
       " 'Cyclist': 1,\n",
       " 'Misc': 2,\n",
       " 'Pedestrian': 3,\n",
       " 'Person': 4,\n",
       " 'Tram': 5,\n",
       " 'Truck': 6,\n",
       " 'Van': 7}"
      ]
     },
     "execution_count": 6,
     "metadata": {},
     "output_type": "execute_result"
    }
   ],
   "source": [
    "CLASS_DICT"
   ]
  },
  {
   "cell_type": "code",
   "execution_count": 7,
   "metadata": {},
   "outputs": [],
   "source": [
    "LABEL_PATH = r\"/datasets/kitti_tracking/label/\""
   ]
  },
  {
   "cell_type": "code",
   "execution_count": 8,
   "metadata": {},
   "outputs": [
    {
     "name": "stdout",
     "output_type": "stream",
     "text": [
      "0000.txt  0003.txt  0006.txt  0009.txt\t0012.txt  0015.txt  0018.txt\r\n",
      "0001.txt  0004.txt  0007.txt  0010.txt\t0013.txt  0016.txt  0019.txt\r\n",
      "0002.txt  0005.txt  0008.txt  0011.txt\t0014.txt  0017.txt  0020.txt\r\n"
     ]
    }
   ],
   "source": [
    "!ls $LABEL_PATH"
   ]
  },
  {
   "cell_type": "code",
   "execution_count": 9,
   "metadata": {},
   "outputs": [],
   "source": [
    "labels = glob.glob(LABEL_PATH + \"*.txt\")"
   ]
  },
  {
   "cell_type": "code",
   "execution_count": 10,
   "metadata": {},
   "outputs": [],
   "source": [
    "EXPORT_DIR = '../results/kitti_track_02_gt/raw_detections'\n",
    "# EXPORT_DIR_2 = '../results/kitti_track_03_gt/raw_detections'\n",
    "os.makedirs(EXPORT_DIR, exist_ok=True)\n",
    "# os.makedirs(EXPORT_DIR_2, exist_ok=True)"
   ]
  },
  {
   "cell_type": "code",
   "execution_count": 13,
   "metadata": {},
   "outputs": [],
   "source": [
    "class_ids = []\n",
    "for label in labels:\n",
    "#     print(label)\n",
    "    name, ext = os.path.splitext(os.path.basename(label))\n",
    "    df = pd.read_csv(label, names= KITTI_LABEL, delimiter=\" \")\n",
    "    df = df[(df[KITTI_LABEL[2]] != \"DontCare\")]\n",
    "    df['class_id'] = df['class_name'].map(CLASS_DICT)\n",
    "    df['w'] = df['bbox_r'] - df['bbox_l']\n",
    "    df['h'] = df['bbox_b'] - df['bbox_t']\n",
    "    export_label_data = df[['frame', 'track_id', 'bbox_l', 'bbox_t', 'w', 'h', 'truncated', 'class_id', 'occluded', 'wdim']]\n",
    "    export_label_data = export_label_data.copy(deep=True)\n",
    "    export_label_data['truncated'] = 1\n",
    "    export_label_data['track_id'] = -1\n",
    "    export_label_data['occluded'] = -1\n",
    "    export_label_data['wdim'] = -1\n",
    "    export_numpy = export_label_data.to_numpy()\n",
    "    output_filename = os.path.join(EXPORT_DIR, \"%s.npy\" % name)\n",
    "    output_txtname = os.path.join(EXPORT_DIR, \"%s.txt\" % name)\n",
    "    np.save(output_filename, export_numpy, allow_pickle=False)\n",
    "    np.savetxt(output_txtname, export_numpy, fmt='%4.2f')"
   ]
  }
 ],
 "metadata": {
  "kernelspec": {
   "display_name": "Python 3",
   "language": "python",
   "name": "python3"
  },
  "language_info": {
   "codemirror_mode": {
    "name": "ipython",
    "version": 3
   },
   "file_extension": ".py",
   "mimetype": "text/x-python",
   "name": "python",
   "nbconvert_exporter": "python",
   "pygments_lexer": "ipython3",
   "version": "3.7.4"
  }
 },
 "nbformat": 4,
 "nbformat_minor": 2
}
