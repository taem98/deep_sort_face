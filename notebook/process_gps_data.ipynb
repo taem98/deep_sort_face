{
 "cells": [
  {
   "cell_type": "code",
   "execution_count": 17,
   "metadata": {},
   "outputs": [],
   "source": [
    "import pandas as pd\n",
    "import numpy as np"
   ]
  },
  {
   "cell_type": "markdown",
   "metadata": {},
   "source": [
    "Filter out the distance between two car is below 25m"
   ]
  },
  {
   "cell_type": "code",
   "execution_count": 18,
   "metadata": {},
   "outputs": [],
   "source": [
    "def read_gps_sample_file(gps_file):\n",
    "    df = pd.read_csv(gps_file, header=0, sep=',')\n",
    "    df = df[(df.dis < 200) & (df.dis > 0)]\n",
    "    df['round_time'] = df[\"time stamp\"]\n",
    "    df = df.round({'round_time':1})\n",
    "    df = df.groupby(['round_time']).mean()\n",
    "    df = df.reset_index()\n",
    "    df['round_time'] = df['round_time']*10\n",
    "    df.astype({'round_time': 'int64'})\n",
    "    return df\n"
   ]
  },
  {
   "cell_type": "code",
   "execution_count": 19,
   "metadata": {},
   "outputs": [],
   "source": [
    "bmw_x5_gps = \"/datasets/sample_video/2020_01_09/bwm_x5/bmw/allpar.csv\"\n",
    "bmw_x5_df = read_gps_sample_file(bmw_x5_gps)"
   ]
  },
  {
   "cell_type": "code",
   "execution_count": 20,
   "metadata": {},
   "outputs": [],
   "source": [
    "kia_niro_gps = \"/datasets/sample_video/2020_01_09/kia_niro/niro/allpar.csv\"\n",
    "kia_niro_df = read_gps_sample_file(kia_niro_gps)"
   ]
  },
  {
   "cell_type": "code",
   "execution_count": 21,
   "metadata": {},
   "outputs": [
    {
     "data": {
      "text/plain": [
       "(16517, 10)"
      ]
     },
     "execution_count": 21,
     "metadata": {},
     "output_type": "execute_result"
    }
   ],
   "source": [
    "kia_niro_df.shape"
   ]
  },
  {
   "cell_type": "code",
   "execution_count": 22,
   "metadata": {},
   "outputs": [
    {
     "data": {
      "text/plain": [
       "(17903, 10)"
      ]
     },
     "execution_count": 22,
     "metadata": {},
     "output_type": "execute_result"
    }
   ],
   "source": [
    "bmw_x5_df.shape"
   ]
  },
  {
   "cell_type": "code",
   "execution_count": 7,
   "metadata": {},
   "outputs": [],
   "source": [
    "kia_niro_df.to_csv(\"kia_niro.csv\", header=False, index=False)\n",
    "bmw_x5_df.to_csv(\"bmw_x5.csv\", header=False, index=False)"
   ]
  },
  {
   "cell_type": "code",
   "execution_count": 8,
   "metadata": {},
   "outputs": [],
   "source": [
    "kia_niro_df['dis'] = kia_niro_df[kia_niro_df['dis'] < 40]"
   ]
  },
  {
   "cell_type": "code",
   "execution_count": 9,
   "metadata": {},
   "outputs": [
    {
     "data": {
      "text/html": [
       "<div>\n",
       "<style scoped>\n",
       "    .dataframe tbody tr th:only-of-type {\n",
       "        vertical-align: middle;\n",
       "    }\n",
       "\n",
       "    .dataframe tbody tr th {\n",
       "        vertical-align: top;\n",
       "    }\n",
       "\n",
       "    .dataframe thead th {\n",
       "        text-align: right;\n",
       "    }\n",
       "</style>\n",
       "<table border=\"1\" class=\"dataframe\">\n",
       "  <thead>\n",
       "    <tr style=\"text-align: right;\">\n",
       "      <th></th>\n",
       "      <th>round_time</th>\n",
       "      <th>V_ID</th>\n",
       "      <th>tx_lat</th>\n",
       "      <th>tx_lon</th>\n",
       "      <th>rx_lat</th>\n",
       "      <th>rx_lon</th>\n",
       "      <th>tx_speed</th>\n",
       "      <th>rx_speed</th>\n",
       "      <th>dis</th>\n",
       "      <th>time stamp</th>\n",
       "    </tr>\n",
       "  </thead>\n",
       "  <tbody>\n",
       "    <tr>\n",
       "      <th>0</th>\n",
       "      <td>1.578546e+10</td>\n",
       "      <td>2.0</td>\n",
       "      <td>366255031.0</td>\n",
       "      <td>1.274572e+09</td>\n",
       "      <td>366254606.0</td>\n",
       "      <td>1.274571e+09</td>\n",
       "      <td>3.5</td>\n",
       "      <td>15.0</td>\n",
       "      <td>1.578546e+10</td>\n",
       "      <td>1.578546e+09</td>\n",
       "    </tr>\n",
       "    <tr>\n",
       "      <th>1</th>\n",
       "      <td>1.578546e+10</td>\n",
       "      <td>2.0</td>\n",
       "      <td>366255031.0</td>\n",
       "      <td>1.274572e+09</td>\n",
       "      <td>366254608.0</td>\n",
       "      <td>1.274571e+09</td>\n",
       "      <td>2.0</td>\n",
       "      <td>8.0</td>\n",
       "      <td>1.578546e+10</td>\n",
       "      <td>1.578546e+09</td>\n",
       "    </tr>\n",
       "    <tr>\n",
       "      <th>2</th>\n",
       "      <td>1.578546e+10</td>\n",
       "      <td>2.0</td>\n",
       "      <td>366255031.0</td>\n",
       "      <td>1.274572e+09</td>\n",
       "      <td>366254608.0</td>\n",
       "      <td>1.274571e+09</td>\n",
       "      <td>6.5</td>\n",
       "      <td>4.0</td>\n",
       "      <td>1.578546e+10</td>\n",
       "      <td>1.578546e+09</td>\n",
       "    </tr>\n",
       "    <tr>\n",
       "      <th>3</th>\n",
       "      <td>1.578546e+10</td>\n",
       "      <td>2.0</td>\n",
       "      <td>366255031.0</td>\n",
       "      <td>1.274572e+09</td>\n",
       "      <td>366254608.0</td>\n",
       "      <td>1.274571e+09</td>\n",
       "      <td>11.0</td>\n",
       "      <td>4.0</td>\n",
       "      <td>1.578546e+10</td>\n",
       "      <td>1.578546e+09</td>\n",
       "    </tr>\n",
       "    <tr>\n",
       "      <th>4</th>\n",
       "      <td>1.578546e+10</td>\n",
       "      <td>2.0</td>\n",
       "      <td>366255032.0</td>\n",
       "      <td>1.274572e+09</td>\n",
       "      <td>366254608.0</td>\n",
       "      <td>1.274571e+09</td>\n",
       "      <td>11.5</td>\n",
       "      <td>4.5</td>\n",
       "      <td>1.578546e+10</td>\n",
       "      <td>1.578546e+09</td>\n",
       "    </tr>\n",
       "  </tbody>\n",
       "</table>\n",
       "</div>"
      ],
      "text/plain": [
       "     round_time  V_ID       tx_lat        tx_lon       rx_lat        rx_lon  \\\n",
       "0  1.578546e+10   2.0  366255031.0  1.274572e+09  366254606.0  1.274571e+09   \n",
       "1  1.578546e+10   2.0  366255031.0  1.274572e+09  366254608.0  1.274571e+09   \n",
       "2  1.578546e+10   2.0  366255031.0  1.274572e+09  366254608.0  1.274571e+09   \n",
       "3  1.578546e+10   2.0  366255031.0  1.274572e+09  366254608.0  1.274571e+09   \n",
       "4  1.578546e+10   2.0  366255032.0  1.274572e+09  366254608.0  1.274571e+09   \n",
       "\n",
       "   tx_speed  rx_speed           dis    time stamp  \n",
       "0       3.5      15.0  1.578546e+10  1.578546e+09  \n",
       "1       2.0       8.0  1.578546e+10  1.578546e+09  \n",
       "2       6.5       4.0  1.578546e+10  1.578546e+09  \n",
       "3      11.0       4.0  1.578546e+10  1.578546e+09  \n",
       "4      11.5       4.5  1.578546e+10  1.578546e+09  "
      ]
     },
     "execution_count": 9,
     "metadata": {},
     "output_type": "execute_result"
    }
   ],
   "source": [
    "kia_niro_df.head(5)"
   ]
  },
  {
   "cell_type": "code",
   "execution_count": 10,
   "metadata": {},
   "outputs": [],
   "source": [
    "bmw_x5_df['dis'] = bmw_x5_df[bmw_x5_df.dis < 40]"
   ]
  },
  {
   "cell_type": "code",
   "execution_count": 11,
   "metadata": {},
   "outputs": [
    {
     "data": {
      "text/html": [
       "<div>\n",
       "<style scoped>\n",
       "    .dataframe tbody tr th:only-of-type {\n",
       "        vertical-align: middle;\n",
       "    }\n",
       "\n",
       "    .dataframe tbody tr th {\n",
       "        vertical-align: top;\n",
       "    }\n",
       "\n",
       "    .dataframe thead th {\n",
       "        text-align: right;\n",
       "    }\n",
       "</style>\n",
       "<table border=\"1\" class=\"dataframe\">\n",
       "  <thead>\n",
       "    <tr style=\"text-align: right;\">\n",
       "      <th></th>\n",
       "      <th>round_time</th>\n",
       "      <th>V_ID</th>\n",
       "      <th>tx_lat</th>\n",
       "      <th>tx_lon</th>\n",
       "      <th>rx_lat</th>\n",
       "      <th>rx_lon</th>\n",
       "      <th>tx_speed</th>\n",
       "      <th>rx_speed</th>\n",
       "      <th>dis</th>\n",
       "      <th>time stamp</th>\n",
       "    </tr>\n",
       "  </thead>\n",
       "  <tbody>\n",
       "    <tr>\n",
       "      <th>0</th>\n",
       "      <td>1.578546e+10</td>\n",
       "      <td>1.0</td>\n",
       "      <td>366254606.0</td>\n",
       "      <td>1.274571e+09</td>\n",
       "      <td>366255031.0</td>\n",
       "      <td>1.274572e+09</td>\n",
       "      <td>15.0</td>\n",
       "      <td>3.5</td>\n",
       "      <td>1.578546e+10</td>\n",
       "      <td>1.578546e+09</td>\n",
       "    </tr>\n",
       "    <tr>\n",
       "      <th>1</th>\n",
       "      <td>1.578546e+10</td>\n",
       "      <td>1.0</td>\n",
       "      <td>366254608.0</td>\n",
       "      <td>1.274571e+09</td>\n",
       "      <td>366255031.0</td>\n",
       "      <td>1.274572e+09</td>\n",
       "      <td>8.0</td>\n",
       "      <td>2.0</td>\n",
       "      <td>1.578546e+10</td>\n",
       "      <td>1.578546e+09</td>\n",
       "    </tr>\n",
       "    <tr>\n",
       "      <th>2</th>\n",
       "      <td>1.578546e+10</td>\n",
       "      <td>1.0</td>\n",
       "      <td>366254608.0</td>\n",
       "      <td>1.274571e+09</td>\n",
       "      <td>366255031.0</td>\n",
       "      <td>1.274572e+09</td>\n",
       "      <td>4.0</td>\n",
       "      <td>6.5</td>\n",
       "      <td>1.578546e+10</td>\n",
       "      <td>1.578546e+09</td>\n",
       "    </tr>\n",
       "    <tr>\n",
       "      <th>3</th>\n",
       "      <td>1.578546e+10</td>\n",
       "      <td>1.0</td>\n",
       "      <td>366254608.0</td>\n",
       "      <td>1.274571e+09</td>\n",
       "      <td>366255031.0</td>\n",
       "      <td>1.274572e+09</td>\n",
       "      <td>4.0</td>\n",
       "      <td>11.0</td>\n",
       "      <td>1.578546e+10</td>\n",
       "      <td>1.578546e+09</td>\n",
       "    </tr>\n",
       "    <tr>\n",
       "      <th>4</th>\n",
       "      <td>1.578546e+10</td>\n",
       "      <td>1.0</td>\n",
       "      <td>366254608.0</td>\n",
       "      <td>1.274571e+09</td>\n",
       "      <td>366255032.0</td>\n",
       "      <td>1.274572e+09</td>\n",
       "      <td>5.0</td>\n",
       "      <td>11.5</td>\n",
       "      <td>1.578546e+10</td>\n",
       "      <td>1.578546e+09</td>\n",
       "    </tr>\n",
       "  </tbody>\n",
       "</table>\n",
       "</div>"
      ],
      "text/plain": [
       "     round_time  V_ID       tx_lat        tx_lon       rx_lat        rx_lon  \\\n",
       "0  1.578546e+10   1.0  366254606.0  1.274571e+09  366255031.0  1.274572e+09   \n",
       "1  1.578546e+10   1.0  366254608.0  1.274571e+09  366255031.0  1.274572e+09   \n",
       "2  1.578546e+10   1.0  366254608.0  1.274571e+09  366255031.0  1.274572e+09   \n",
       "3  1.578546e+10   1.0  366254608.0  1.274571e+09  366255031.0  1.274572e+09   \n",
       "4  1.578546e+10   1.0  366254608.0  1.274571e+09  366255032.0  1.274572e+09   \n",
       "\n",
       "   tx_speed  rx_speed           dis    time stamp  \n",
       "0      15.0       3.5  1.578546e+10  1.578546e+09  \n",
       "1       8.0       2.0  1.578546e+10  1.578546e+09  \n",
       "2       4.0       6.5  1.578546e+10  1.578546e+09  \n",
       "3       4.0      11.0  1.578546e+10  1.578546e+09  \n",
       "4       5.0      11.5  1.578546e+10  1.578546e+09  "
      ]
     },
     "execution_count": 11,
     "metadata": {},
     "output_type": "execute_result"
    }
   ],
   "source": [
    "bmw_x5_df.head(5)"
   ]
  },
  {
   "cell_type": "code",
   "execution_count": 12,
   "metadata": {},
   "outputs": [],
   "source": [
    "common_time = np.intersect1d(bmw_x5_df['round_time'].to_numpy(), kia_niro_df['round_time'].to_numpy())"
   ]
  },
  {
   "cell_type": "code",
   "execution_count": 13,
   "metadata": {},
   "outputs": [
    {
     "data": {
      "text/plain": [
       "(16408,)"
      ]
     },
     "execution_count": 13,
     "metadata": {},
     "output_type": "execute_result"
    }
   ],
   "source": [
    "common_time.shape"
   ]
  },
  {
   "cell_type": "code",
   "execution_count": 14,
   "metadata": {},
   "outputs": [],
   "source": [
    "np.save(\"round_time_below_40m.npy\", common_time, allow_pickle=False)"
   ]
  },
  {
   "cell_type": "code",
   "execution_count": null,
   "metadata": {},
   "outputs": [],
   "source": []
  },
  {
   "cell_type": "code",
   "execution_count": 23,
   "metadata": {},
   "outputs": [],
   "source": [
    "kia_niro_df['dis'] = kia_niro_df[kia_niro_df['dis'] < 25]"
   ]
  },
  {
   "cell_type": "code",
   "execution_count": 24,
   "metadata": {},
   "outputs": [],
   "source": [
    "bmw_x5_df['dis'] = bmw_x5_df[bmw_x5_df.dis < 25]"
   ]
  },
  {
   "cell_type": "code",
   "execution_count": 25,
   "metadata": {},
   "outputs": [],
   "source": [
    "common_time = np.intersect1d(bmw_x5_df['round_time'].to_numpy(), kia_niro_df['round_time'].to_numpy())"
   ]
  },
  {
   "cell_type": "code",
   "execution_count": 26,
   "metadata": {},
   "outputs": [
    {
     "data": {
      "text/plain": [
       "(16408,)"
      ]
     },
     "execution_count": 26,
     "metadata": {},
     "output_type": "execute_result"
    }
   ],
   "source": [
    "common_time.shape"
   ]
  },
  {
   "cell_type": "code",
   "execution_count": 27,
   "metadata": {},
   "outputs": [],
   "source": [
    "np.save(\"round_time_below_25m.npy\", common_time, allow_pickle=False)"
   ]
  },
  {
   "cell_type": "code",
   "execution_count": 15,
   "metadata": {},
   "outputs": [],
   "source": [
    "meta_file_left = \"/datasets/sample_video/2020_01_09/bwm_x5/left_metadata.json\"\n",
    "meta_df = pd.read_json(meta_file_left, orient='index', convert_axes=False)\n",
    "meta_df = meta_df.reset_index()\n",
    "meta_df.to_csv(\"bwm_x5_left_metadata.csv\", index=False, header=False)"
   ]
  },
  {
   "cell_type": "code",
   "execution_count": 28,
   "metadata": {},
   "outputs": [],
   "source": [
    "kia_niro_left_metadata = \"/datasets/sample_video/2020_01_09/kia_niro/left_metadata.json\"\n",
    "kia_niro_left_metadata = pd.read_json(kia_niro_left_metadata, orient='index', convert_axes=False)\n",
    "kia_niro_left_metadata = kia_niro_left_metadata.reset_index()\n",
    "kia_niro_left_metadata.to_csv(\"kia_niro_left_metadata.csv\", index=False, header=False)"
   ]
  },
  {
   "cell_type": "code",
   "execution_count": null,
   "metadata": {},
   "outputs": [],
   "source": []
  }
 ],
 "metadata": {
  "kernelspec": {
   "display_name": "Python 3",
   "language": "python",
   "name": "python3"
  },
  "language_info": {
   "codemirror_mode": {
    "name": "ipython",
    "version": 3
   },
   "file_extension": ".py",
   "mimetype": "text/x-python",
   "name": "python",
   "nbconvert_exporter": "python",
   "pygments_lexer": "ipython3",
   "version": "3.7.4"
  }
 },
 "nbformat": 4,
 "nbformat_minor": 2
}
